{
 "cells": [
  {
   "cell_type": "code",
   "execution_count": 1,
   "id": "483e5354",
   "metadata": {},
   "outputs": [
    {
     "name": "stdout",
     "output_type": "stream",
     "text": [
      "/Users/armandomaxfli/Desktop/secuencias_amphidinium\n"
     ]
    }
   ],
   "source": [
    "cd .."
   ]
  },
  {
   "cell_type": "code",
   "execution_count": 23,
   "id": "bb97d63c",
   "metadata": {},
   "outputs": [],
   "source": [
    "#función para cargar un archivo y obtener un conjunto de IDs de genes\n",
    "def cargar_genes(archivo):\n",
    "    genes = set()\n",
    "    with open(archivo, 'r') as file:\n",
    "        for line in file:\n",
    "            gene_id = line.split('\\t')[0].strip() #el .strip()elimina los \\n\n",
    "            genes.add(gene_id)\n",
    "    return genes"
   ]
  },
  {
   "cell_type": "code",
   "execution_count": 47,
   "id": "38f45ad7",
   "metadata": {},
   "outputs": [],
   "source": [
    "archivo1 = 'anotaciones/20vs30/carbon_fixation.txt'\n",
    "archivo2 = 'anotaciones/Trinity_amphi/Trinity_amphiPFAM.txt'"
   ]
  },
  {
   "cell_type": "code",
   "execution_count": 48,
   "id": "0b27b6e1",
   "metadata": {},
   "outputs": [],
   "source": [
    "genes_archivo1 = cargar_genes(archivo1)\n",
    "genes_archivo2 = cargar_genes(archivo2)"
   ]
  },
  {
   "cell_type": "code",
   "execution_count": 49,
   "id": "fec9bf4c",
   "metadata": {
    "scrolled": true
   },
   "outputs": [
    {
     "name": "stdout",
     "output_type": "stream",
     "text": [
      "{'TRINITY_DN2477_c0_g1_i16', 'TRINITY_DN2353_c0_g1_i7', 'TRINITY_DN1557_c1_g1_i2', 'TRINITY_DN1557_c1_g1_i6', 'TRINITY_DN789_c0_g1_i1', 'TRINITY_DN883_c0_g1_i1', 'TRINITY_DN1557_c1_g1_i4', 'TRINITY_DN2353_c0_g1_i10', 'TRINITY_DN883_c0_g1_i10', 'TRINITY_DN616_c0_g1_i18', 'TRINITY_DN7267_c0_g1_i4', 'TRINITY_DN16510_c0_g1_i1', 'TRINITY_DN914_c1_g1_i6', 'TRINITY_DN3049_c0_g1_i6', 'TRINITY_DN2353_c0_g1_i5', 'TRINITY_DN616_c0_g1_i11', 'TRINITY_DN4968_c0_g1_i11', 'TRINITY_DN311_c0_g1_i2', 'TRINITY_DN789_c0_g1_i2', 'TRINITY_DN616_c0_g1_i1'}\n"
     ]
    }
   ],
   "source": [
    "print(genes_archivo1)"
   ]
  },
  {
   "cell_type": "code",
   "execution_count": 50,
   "id": "51cb1f10",
   "metadata": {},
   "outputs": [],
   "source": [
    "genes_comunes = genes_archivo1.intersection(genes_archivo2)"
   ]
  },
  {
   "cell_type": "code",
   "execution_count": 51,
   "id": "43293984",
   "metadata": {},
   "outputs": [
    {
     "name": "stdout",
     "output_type": "stream",
     "text": [
      "{'TRINITY_DN2477_c0_g1_i16', 'TRINITY_DN2353_c0_g1_i7', 'TRINITY_DN1557_c1_g1_i2', 'TRINITY_DN1557_c1_g1_i6', 'TRINITY_DN789_c0_g1_i1', 'TRINITY_DN883_c0_g1_i1', 'TRINITY_DN1557_c1_g1_i4', 'TRINITY_DN2353_c0_g1_i10', 'TRINITY_DN883_c0_g1_i10', 'TRINITY_DN616_c0_g1_i18', 'TRINITY_DN7267_c0_g1_i4', 'TRINITY_DN16510_c0_g1_i1', 'TRINITY_DN914_c1_g1_i6', 'TRINITY_DN3049_c0_g1_i6', 'TRINITY_DN2353_c0_g1_i5', 'TRINITY_DN616_c0_g1_i11', 'TRINITY_DN4968_c0_g1_i11', 'TRINITY_DN311_c0_g1_i2', 'TRINITY_DN789_c0_g1_i2', 'TRINITY_DN616_c0_g1_i1'}\n"
     ]
    }
   ],
   "source": [
    "print(genes_comunes)"
   ]
  },
  {
   "cell_type": "code",
   "execution_count": 52,
   "id": "4a8f8a29",
   "metadata": {},
   "outputs": [],
   "source": [
    "archivo_salida = 'anotaciones/20vs30/Pfam_carbon_fixation.txt'"
   ]
  },
  {
   "cell_type": "code",
   "execution_count": 53,
   "id": "3eac8e6a",
   "metadata": {},
   "outputs": [],
   "source": [
    "with open(archivo_salida, 'w') as output_file:\n",
    "    \n",
    "    for gene_id in genes_comunes:\n",
    "        with open(archivo1, 'r') as file:\n",
    "            for line in file:\n",
    "                if gene_id == line.split('\\t')[0]:\n",
    "                    output_file.write(line.rstrip('\\n') + '\\t')\n",
    "                    break\n",
    "                    \n",
    "        with open(archivo2, 'r') as file:\n",
    "            for line in file:\n",
    "                if gene_id == line.split('\\t')[0]:\n",
    "                    output_file.write(line)\n",
    "                    break"
   ]
  },
  {
   "cell_type": "code",
   "execution_count": 54,
   "id": "eb2e4541",
   "metadata": {},
   "outputs": [],
   "source": [
    "import csv"
   ]
  },
  {
   "cell_type": "code",
   "execution_count": 55,
   "id": "1143e2ef",
   "metadata": {},
   "outputs": [],
   "source": [
    "def leer_identificadores(archivo, delimitador):\n",
    "    identificadores = set()\n",
    "    with open(archivo, 'r') as file:\n",
    "        reader = csv.reader(file, delimiter = delimitador)\n",
    "        for row in reader:\n",
    "            identificadores.add(row[0])\n",
    "    return identificadores"
   ]
  },
  {
   "cell_type": "code",
   "execution_count": 56,
   "id": "9c165069",
   "metadata": {},
   "outputs": [],
   "source": [
    "archivo_txt = 'anotaciones/20vs30/Glycolysis.txt'\n",
    "archivo_csv = 'DESeq/deSeq_salinidad.csv'"
   ]
  },
  {
   "cell_type": "code",
   "execution_count": 60,
   "id": "b4e297c3",
   "metadata": {},
   "outputs": [],
   "source": [
    "identificadores_txt = leer_identificadores(archivo_txt, '\\t')\n",
    "identificadores_csv = leer_identificadores(archivo_csv, ',')"
   ]
  },
  {
   "cell_type": "code",
   "execution_count": 62,
   "id": "e1023abd",
   "metadata": {},
   "outputs": [],
   "source": [
    "identificadores_comunes = indentificadores_txt.intersection(identificadores_csv)"
   ]
  },
  {
   "cell_type": "code",
   "execution_count": 63,
   "id": "ab109fcd",
   "metadata": {},
   "outputs": [
    {
     "name": "stdout",
     "output_type": "stream",
     "text": [
      "{'TRINITY_DN2477_c0_g1_i16', 'TRINITY_DN20678_c0_g1_i1', 'TRINITY_DN36001_c0_g1_i1', 'TRINITY_DN5431_c0_g1_i1', 'TRINITY_DN616_c0_g1_i11', 'TRINITY_DN3634_c0_g1_i2', 'TRINITY_DN47220_c0_g1_i1', 'TRINITY_DN883_c0_g1_i1', 'TRINITY_DN18832_c0_g1_i1', 'TRINITY_DN1742_c0_g4_i1', 'TRINITY_DN311_c0_g1_i2', 'TRINITY_DN616_c0_g1_i18', 'TRINITY_DN883_c0_g1_i10', 'TRINITY_DN616_c0_g1_i1'}\n"
     ]
    }
   ],
   "source": [
    "print(identificadores_comunes)"
   ]
  },
  {
   "cell_type": "code",
   "execution_count": 64,
   "id": "c331af70",
   "metadata": {},
   "outputs": [],
   "source": [
    "archivo_salida2 = 'anotaciones/deSeq_Glycolysis.csv'"
   ]
  },
  {
   "cell_type": "code",
   "execution_count": 70,
   "id": "5dd44673",
   "metadata": {},
   "outputs": [],
   "source": [
    "with open(archivo_csv, 'r') as f_csv, open(archivo_salida2, 'w', newline = '') as f_out:\n",
    "    f_out.write('gene_ID,baseMean,log2FoldChange,IfcSE,stat,pvalue,padj\\n')\n",
    "    reader = csv.reader(f_csv)\n",
    "    writer = csv.writer(f_out)\n",
    "    for row in reader:\n",
    "        if row[0] in identificadores_comunes:\n",
    "            writer.writerow(row)"
   ]
  },
  {
   "cell_type": "code",
   "execution_count": null,
   "id": "36d762e1",
   "metadata": {},
   "outputs": [],
   "source": []
  }
 ],
 "metadata": {
  "kernelspec": {
   "display_name": "Python 3 (ipykernel)",
   "language": "python",
   "name": "python3"
  },
  "language_info": {
   "codemirror_mode": {
    "name": "ipython",
    "version": 3
   },
   "file_extension": ".py",
   "mimetype": "text/x-python",
   "name": "python",
   "nbconvert_exporter": "python",
   "pygments_lexer": "ipython3",
   "version": "3.9.7"
  }
 },
 "nbformat": 4,
 "nbformat_minor": 5
}
