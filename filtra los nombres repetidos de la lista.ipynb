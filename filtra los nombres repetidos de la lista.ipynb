{
 "cells": [
  {
   "cell_type": "code",
   "execution_count": 1,
   "id": "7c653023",
   "metadata": {},
   "outputs": [
    {
     "name": "stdout",
     "output_type": "stream",
     "text": [
      "/Users/armandomaxfli/Desktop/secuencias_amphidinium/anotaciones/20vs30\n"
     ]
    }
   ],
   "source": [
    "cd anotaciones/20vs30/"
   ]
  },
  {
   "cell_type": "code",
   "execution_count": 2,
   "id": "4a8e58aa",
   "metadata": {},
   "outputs": [],
   "source": [
    "with open(\"downreg_20vs30.blastx.out\", \"r\") as file:\n",
    "    lines = file.readlines()"
   ]
  },
  {
   "cell_type": "code",
   "execution_count": 3,
   "id": "903c7f28",
   "metadata": {},
   "outputs": [],
   "source": [
    "#utiliza un conjunto para realizar un seguimiento de los nombres unicos\n",
    "unique_names = set()"
   ]
  },
  {
   "cell_type": "code",
   "execution_count": 4,
   "id": "6e5765c5",
   "metadata": {},
   "outputs": [],
   "source": [
    "#filtra las lineas eliminando aquellas con nombres repetidos\n",
    "filtered_lines = []\n",
    "for line in lines:\n",
    "    #suponiendo que el nombre esta en la primera columna\n",
    "    name = line.split('\\t')[0]\n",
    "    #verifica si el nombre ya ha sido visto\n",
    "    if name not in unique_names:\n",
    "        #agrega el nombre al conjunto de nombres unicos\n",
    "        unique_names.add(name)\n",
    "        #agrega la línea al resultado\n",
    "        filtered_lines.append(line)"
   ]
  },
  {
   "cell_type": "code",
   "execution_count": 5,
   "id": "12e91271",
   "metadata": {},
   "outputs": [],
   "source": [
    "#escribe las líneas filtradas de nuevo al archivo\n",
    "with open(\"downreg_20vs30_filtrado.txt\", \"w\") as file:\n",
    "    file.writelines(filtered_lines)"
   ]
  },
  {
   "cell_type": "code",
   "execution_count": 6,
   "id": "f31df6d2",
   "metadata": {},
   "outputs": [],
   "source": [
    "with open(\"upreg_20vs30.blastx.out\", \"r\") as file:\n",
    "    lines = file.readlines()"
   ]
  },
  {
   "cell_type": "code",
   "execution_count": 7,
   "id": "f3c1b5d7",
   "metadata": {},
   "outputs": [],
   "source": [
    "filtered_lines = []\n",
    "for line in lines:\n",
    "    name = line.split('\\t')[0]\n",
    "    if name not in unique_names:\n",
    "        unique_names.add(name)\n",
    "        filtered_lines.append(line)"
   ]
  },
  {
   "cell_type": "code",
   "execution_count": 8,
   "id": "9d430237",
   "metadata": {},
   "outputs": [],
   "source": [
    "with open(\"upreg_20vs30_filtrado.txt\", \"w\") as file:\n",
    "    file.writelines(filtered_lines)"
   ]
  },
  {
   "cell_type": "code",
   "execution_count": null,
   "id": "8c8673b5",
   "metadata": {},
   "outputs": [],
   "source": []
  }
 ],
 "metadata": {
  "kernelspec": {
   "display_name": "Python 3 (ipykernel)",
   "language": "python",
   "name": "python3"
  },
  "language_info": {
   "codemirror_mode": {
    "name": "ipython",
    "version": 3
   },
   "file_extension": ".py",
   "mimetype": "text/x-python",
   "name": "python",
   "nbconvert_exporter": "python",
   "pygments_lexer": "ipython3",
   "version": "3.9.7"
  }
 },
 "nbformat": 4,
 "nbformat_minor": 5
}
