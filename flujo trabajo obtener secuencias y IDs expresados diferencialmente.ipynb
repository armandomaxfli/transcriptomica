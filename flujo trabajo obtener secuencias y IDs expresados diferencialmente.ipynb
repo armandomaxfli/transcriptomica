{
 "cells": [
  {
   "cell_type": "code",
   "execution_count": 1,
   "id": "46e643b1",
   "metadata": {},
   "outputs": [
    {
     "data": {
      "text/plain": [
       "'/Users/armandomaxfli/Desktop/secuencias_amphidinium'"
      ]
     },
     "execution_count": 1,
     "metadata": {},
     "output_type": "execute_result"
    }
   ],
   "source": [
    "pwd"
   ]
  },
  {
   "cell_type": "code",
   "execution_count": 2,
   "id": "ca4eb724",
   "metadata": {},
   "outputs": [
    {
     "name": "stdout",
     "output_type": "stream",
     "text": [
      "/Users/armandomaxfli/Desktop/secuencias_amphidinium/anotaciones/20vs30\n"
     ]
    }
   ],
   "source": [
    "cd anotaciones/20vs30"
   ]
  },
  {
   "cell_type": "markdown",
   "id": "e6d13fc7",
   "metadata": {},
   "source": [
    "## fujo de trabajo para obtener las secuencias y id's expresados diferencialmente para hacer el análisis de enriquecimiento"
   ]
  },
  {
   "cell_type": "markdown",
   "id": "13ee8f3b",
   "metadata": {},
   "source": [
    "### filtrado de las secuencias repetidas de mi archivo de blastx"
   ]
  },
  {
   "cell_type": "code",
   "execution_count": 4,
   "id": "e3d8763a",
   "metadata": {},
   "outputs": [],
   "source": [
    "with open(\"upreg_20vs30.blastx.out\", 'r') as file:\n",
    "    lines = file.readlines()"
   ]
  },
  {
   "cell_type": "code",
   "execution_count": 5,
   "id": "b4cf2f56",
   "metadata": {},
   "outputs": [],
   "source": [
    "#utiliza un conjunto para realizar un seguimiento de los nombres únicos\n",
    "unique_names = set()"
   ]
  },
  {
   "cell_type": "code",
   "execution_count": 6,
   "id": "36ae3e18",
   "metadata": {},
   "outputs": [],
   "source": [
    "#filtra las líneas eliminando aquellas con nombres repetidos\n",
    "filtered_lines = []\n",
    "for line in lines:\n",
    "    #suponiendo que el nombre esta en la primera columna\n",
    "    name = line.split('\\t')[0]\n",
    "    #verifica si el nombre ya ha sido visto\n",
    "    if name not in unique_names:\n",
    "        #agrega el nombre al conjunto de nombres únicos\n",
    "        unique_names.add(name)\n",
    "        #agrega la línea al resultado\n",
    "        filtered_lines.append(line)"
   ]
  },
  {
   "cell_type": "code",
   "execution_count": 7,
   "id": "5637ad9a",
   "metadata": {},
   "outputs": [],
   "source": [
    "#escribe las líneas filtradas de nuevo al archivo\n",
    "with open(\"upreg_20vs30_filtrado.txt\", 'w') as file:\n",
    "    file.writelines(filtered_lines)"
   ]
  },
  {
   "cell_type": "markdown",
   "id": "ad6da9f8",
   "metadata": {},
   "source": [
    "### encuentra genes comunes en distintos archivos"
   ]
  },
  {
   "cell_type": "code",
   "execution_count": 8,
   "id": "819d7644",
   "metadata": {},
   "outputs": [],
   "source": [
    "#función para cargar un archivo y obtner un conjunto de IDs de genes\n",
    "def cargar_genes(archivo):\n",
    "    genes = set()\n",
    "    with open(archivo, 'r') as file:\n",
    "        for line in file:\n",
    "            gene_id = line.split('\\t')[0]\n",
    "            genes.add(gene_id)\n",
    "    return genes"
   ]
  },
  {
   "cell_type": "code",
   "execution_count": 9,
   "id": "142299dc",
   "metadata": {},
   "outputs": [],
   "source": [
    "archivo1 = \"upreg_20vs30_filtrado.txt\"\n",
    "archivo2 = \"upregulated_20vs30_Fold.txt\""
   ]
  },
  {
   "cell_type": "code",
   "execution_count": 10,
   "id": "74dc6929",
   "metadata": {},
   "outputs": [],
   "source": [
    "#cargar conjuntos de IDs de genes de ambos archivos\n",
    "genes_archivo1 = cargar_genes(archivo1)\n",
    "genes_archivo2 = cargar_genes(archivo2)"
   ]
  },
  {
   "cell_type": "code",
   "execution_count": 11,
   "id": "acd99bdc",
   "metadata": {},
   "outputs": [],
   "source": [
    "#encontrar genes comunes\n",
    "genes_comunes = genes_archivo1.intersection(genes_archivo2)"
   ]
  },
  {
   "cell_type": "code",
   "execution_count": 12,
   "id": "da1a12d8",
   "metadata": {},
   "outputs": [],
   "source": [
    "archivo_salida = \"genes_upreg20vs30.txt\""
   ]
  },
  {
   "cell_type": "code",
   "execution_count": 13,
   "id": "1110831f",
   "metadata": {},
   "outputs": [],
   "source": [
    "with open(archivo_salida, 'w') as output_file:\n",
    "    \n",
    "    #escribir información de genes comunes\n",
    "    for gene_id in genes_comunes:\n",
    "        \n",
    "        #Buscar información en archivo 1\n",
    "        with open(archivo1, 'r') as file:\n",
    "            for line in file:\n",
    "                if gene_id == line.split('\\t')[0]:\n",
    "                    output_file.write(line.rstrip('\\n') + '\\t')\n",
    "                    break\n",
    "                    \n",
    "        #Buscar información en archivo 2:\n",
    "        with open(archivo2, 'r') as file:\n",
    "            for line in file:\n",
    "                if gene_id == line.split('\\t')[0]:\n",
    "                    output_file.write(line)\n",
    "                    break\n",
    "    \n",
    "    "
   ]
  },
  {
   "cell_type": "markdown",
   "id": "cb405724",
   "metadata": {},
   "source": [
    "### extrae los códigos de acceso de UniProt"
   ]
  },
  {
   "cell_type": "code",
   "execution_count": 14,
   "id": "754c5626",
   "metadata": {},
   "outputs": [],
   "source": [
    "#abre el archivo de entrada\n",
    "with open(\"genes_upreg20vs30.txt\", 'r') as archivo:\n",
    "    lineas = archivo.readlines()"
   ]
  },
  {
   "cell_type": "code",
   "execution_count": 15,
   "id": "4f7d9623",
   "metadata": {},
   "outputs": [],
   "source": [
    "codigos_de_acceso = []"
   ]
  },
  {
   "cell_type": "code",
   "execution_count": 16,
   "id": "25e1d021",
   "metadata": {},
   "outputs": [],
   "source": [
    "for linea in lineas:\n",
    "    partes = linea.split('|')\n",
    "    if len(partes) >= 2:\n",
    "        codigo_acceso = partes[1]\n",
    "        codigos_de_acceso.append(codigo_acceso)"
   ]
  },
  {
   "cell_type": "code",
   "execution_count": 17,
   "id": "93ae630a",
   "metadata": {},
   "outputs": [],
   "source": [
    "with open(\"codacceso_upreg.txt\", 'w') as archivo_salida:\n",
    "    for codigo in codigos_de_acceso:\n",
    "        archivo_salida.write(codigo + '\\n')"
   ]
  },
  {
   "cell_type": "code",
   "execution_count": null,
   "id": "a662b730",
   "metadata": {},
   "outputs": [],
   "source": []
  }
 ],
 "metadata": {
  "kernelspec": {
   "display_name": "Python 3 (ipykernel)",
   "language": "python",
   "name": "python3"
  },
  "language_info": {
   "codemirror_mode": {
    "name": "ipython",
    "version": 3
   },
   "file_extension": ".py",
   "mimetype": "text/x-python",
   "name": "python",
   "nbconvert_exporter": "python",
   "pygments_lexer": "ipython3",
   "version": "3.9.7"
  }
 },
 "nbformat": 4,
 "nbformat_minor": 5
}
