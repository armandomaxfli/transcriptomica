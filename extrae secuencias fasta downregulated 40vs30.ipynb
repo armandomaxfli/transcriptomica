{
 "cells": [
  {
   "cell_type": "code",
   "execution_count": 1,
   "id": "b252c7ca",
   "metadata": {},
   "outputs": [
    {
     "data": {
      "text/plain": [
       "'/Users/armandomaxfli'"
      ]
     },
     "execution_count": 1,
     "metadata": {},
     "output_type": "execute_result"
    }
   ],
   "source": [
    "pwd"
   ]
  },
  {
   "cell_type": "code",
   "execution_count": 2,
   "id": "ae859f25",
   "metadata": {},
   "outputs": [
    {
     "name": "stdout",
     "output_type": "stream",
     "text": [
      "/Users/armandomaxfli/Desktop/secuencias_amphidinium\n"
     ]
    }
   ],
   "source": [
    "cd desktop/secuencias_amphidinium"
   ]
  },
  {
   "cell_type": "code",
   "execution_count": 3,
   "id": "f0d93ed7",
   "metadata": {},
   "outputs": [],
   "source": [
    "from Bio import SeqIO"
   ]
  },
  {
   "cell_type": "code",
   "execution_count": 5,
   "id": "74bfe580",
   "metadata": {},
   "outputs": [],
   "source": [
    "#Especifica el nombre del archivo FASTA y el nombre del archivo de salida\n",
    "input_fasta_file = \"Trinity_amphi.fasta\"\n",
    "output_fasta_file = \"seq_downreg_40vs30.fasta\""
   ]
  },
  {
   "cell_type": "code",
   "execution_count": 6,
   "id": "6d06ffff",
   "metadata": {},
   "outputs": [],
   "source": [
    "#Lee la lista de nombres de genes desde un archivo de texto\n",
    "with open(\"lista_genes_expresados.txt\", \"r\") as gene_list_file:\n",
    "    genes_a_extraer = [line.strip() for line in gene_list_file]"
   ]
  },
  {
   "cell_type": "code",
   "execution_count": 7,
   "id": "ba5e72e0",
   "metadata": {},
   "outputs": [],
   "source": [
    "#crea un conjunto para buscar nombres de genes de manera eficiente\n",
    "genes_a_extraer_set = set(genes_a_extraer)"
   ]
  },
  {
   "cell_type": "code",
   "execution_count": 8,
   "id": "f08e7081",
   "metadata": {},
   "outputs": [],
   "source": [
    "#Inicializa una lista para almacenar las secuencias extraidas\n",
    "secuencias_extraidas = []"
   ]
  },
  {
   "cell_type": "code",
   "execution_count": 9,
   "id": "e8fa0337",
   "metadata": {},
   "outputs": [],
   "source": [
    "#Lee el archivo FASTA y extrae las secuencias de los genes especificados\n",
    "for record in SeqIO.parse(input_fasta_file, \"fasta\"):\n",
    "    if record.id in genes_a_extraer_set:\n",
    "        secuencias_extraidas.append(record)"
   ]
  },
  {
   "cell_type": "code",
   "execution_count": 10,
   "id": "00e8eea5",
   "metadata": {},
   "outputs": [],
   "source": [
    "#Escribe las secuencias extraidas en un nuevo archivo\n",
    "with open(output_fasta_file, \"w\") as output_handle:\n",
    "    SeqIO.write(secuencias_extraidas, output_handle, \"fasta\")"
   ]
  },
  {
   "cell_type": "code",
   "execution_count": null,
   "id": "030c46bb",
   "metadata": {},
   "outputs": [],
   "source": []
  }
 ],
 "metadata": {
  "kernelspec": {
   "display_name": "Python 3 (ipykernel)",
   "language": "python",
   "name": "python3"
  },
  "language_info": {
   "codemirror_mode": {
    "name": "ipython",
    "version": 3
   },
   "file_extension": ".py",
   "mimetype": "text/x-python",
   "name": "python",
   "nbconvert_exporter": "python",
   "pygments_lexer": "ipython3",
   "version": "3.9.7"
  }
 },
 "nbformat": 4,
 "nbformat_minor": 5
}
