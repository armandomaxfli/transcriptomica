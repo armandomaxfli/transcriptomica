{
 "cells": [
  {
   "cell_type": "code",
   "execution_count": 1,
   "id": "52e02250",
   "metadata": {},
   "outputs": [
    {
     "name": "stdout",
     "output_type": "stream",
     "text": [
      "/Users/armandomaxfli/Desktop/secuencias_amphidinium/anotaciones/20vs30\n"
     ]
    }
   ],
   "source": [
    "cd anotaciones/20vs30"
   ]
  },
  {
   "cell_type": "code",
   "execution_count": 2,
   "id": "de1257ee",
   "metadata": {},
   "outputs": [],
   "source": [
    "#función para cargar un archivo y obtener un conjunto de IDs de genes\n",
    "def cargar_genes(archivo):\n",
    "    genes = set()\n",
    "    with open(archivo, 'r') as file:\n",
    "        for line in file:\n",
    "            gene_id = line.split('\\t')[0]\n",
    "            genes.add(gene_id)\n",
    "    return genes"
   ]
  },
  {
   "cell_type": "code",
   "execution_count": 3,
   "id": "84613f10",
   "metadata": {},
   "outputs": [],
   "source": [
    "archivo1 = \"downreg_20vs30_filtrado.txt\"\n",
    "archivo2 = \"downregulated_20vs30_Fold.txt\""
   ]
  },
  {
   "cell_type": "code",
   "execution_count": 4,
   "id": "3d650ad3",
   "metadata": {},
   "outputs": [],
   "source": [
    "#cargar conjuntos de IDs de genes de ambos archivos\n",
    "genes_archivo1 = cargar_genes(archivo1)\n",
    "genes_archivo2 = cargar_genes(archivo2)"
   ]
  },
  {
   "cell_type": "code",
   "execution_count": 5,
   "id": "48675479",
   "metadata": {},
   "outputs": [],
   "source": [
    "#encontrar genes comunes\n",
    "genes_comunes = genes_archivo1.intersection(genes_archivo2)"
   ]
  },
  {
   "cell_type": "code",
   "execution_count": 6,
   "id": "9119d527",
   "metadata": {},
   "outputs": [],
   "source": [
    "archivo_salida = 'genes_comunes.txt'"
   ]
  },
  {
   "cell_type": "code",
   "execution_count": 10,
   "id": "7155429e",
   "metadata": {},
   "outputs": [],
   "source": [
    "with open(archivo_salida, 'w') as output_file:\n",
    "    #escribir encabezado\n",
    "    output_file.write(\"gene_ID/protein_id/Fold2Change\")\n",
    "    \n",
    "    #escribir información de gnes comunes\n",
    "    for gene_id in genes_comunes:\n",
    "        #Buscar información en archivo 1\n",
    "        with open(archivo1, 'r') as file:\n",
    "            for line in file:\n",
    "                if gene_id == line.split('\\t')[0]:\n",
    "                    output_file.write(line.rstrip('\\n') + '\\t')\n",
    "                    break\n",
    "    \n",
    "        \n",
    "        #Buscar informacion en archivo 2:\n",
    "        with open(archivo2, 'r') as file:\n",
    "            for line in file:\n",
    "                if gene_id == line.split('\\t')[0]:\n",
    "                    output_file.write(line)\n",
    "                    break"
   ]
  },
  {
   "cell_type": "code",
   "execution_count": null,
   "id": "7340b2c0",
   "metadata": {},
   "outputs": [],
   "source": []
  }
 ],
 "metadata": {
  "kernelspec": {
   "display_name": "Python 3 (ipykernel)",
   "language": "python",
   "name": "python3"
  },
  "language_info": {
   "codemirror_mode": {
    "name": "ipython",
    "version": 3
   },
   "file_extension": ".py",
   "mimetype": "text/x-python",
   "name": "python",
   "nbconvert_exporter": "python",
   "pygments_lexer": "ipython3",
   "version": "3.9.7"
  }
 },
 "nbformat": 4,
 "nbformat_minor": 5
}
