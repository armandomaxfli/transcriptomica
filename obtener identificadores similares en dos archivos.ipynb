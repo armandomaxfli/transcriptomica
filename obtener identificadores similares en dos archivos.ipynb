{
 "cells": [
  {
   "cell_type": "code",
   "execution_count": 1,
   "id": "a4852972",
   "metadata": {},
   "outputs": [],
   "source": [
    "import pandas as pd"
   ]
  },
  {
   "cell_type": "code",
   "execution_count": 7,
   "id": "c7cd7c4e",
   "metadata": {},
   "outputs": [],
   "source": [
    "df_txt = pd.read_csv('../anotaciones/Pfam_fotosistema_II_filtrado.txt', delimiter = '\\t')\n",
    "df_csv = pd.read_csv('../DESeq/deSeq_salinidad.csv')"
   ]
  },
  {
   "cell_type": "code",
   "execution_count": 8,
   "id": "3aadcca0",
   "metadata": {},
   "outputs": [],
   "source": [
    "genes_txt = set(df_txt.iloc[:, 0])\n",
    "genes_csv = set(df_csv.iloc[:, 0])"
   ]
  },
  {
   "cell_type": "code",
   "execution_count": 9,
   "id": "df5c2c6b",
   "metadata": {},
   "outputs": [],
   "source": [
    "genes_comunes = genes_txt.intersection(genes_csv)"
   ]
  },
  {
   "cell_type": "code",
   "execution_count": 10,
   "id": "3e2908d3",
   "metadata": {},
   "outputs": [],
   "source": [
    "df_comunes = df_csv[df_csv.iloc[:, 0].isin(genes_comunes)]"
   ]
  },
  {
   "cell_type": "code",
   "execution_count": 11,
   "id": "07c4a021",
   "metadata": {},
   "outputs": [],
   "source": [
    "df_comunes.to_csv('../anotaciones/genes_comunes.csv', index = False)"
   ]
  },
  {
   "cell_type": "code",
   "execution_count": 1,
   "id": "ff2445ce",
   "metadata": {},
   "outputs": [],
   "source": [
    "import csv"
   ]
  },
  {
   "cell_type": "code",
   "execution_count": 2,
   "id": "f53e8d96",
   "metadata": {},
   "outputs": [],
   "source": [
    "def leer_identificadores(archivo, delimitador):\n",
    "    identificadores = set()\n",
    "    with open(archivo, 'r') as file:\n",
    "        reader = csv.reader(file, delimiter = delimitador)\n",
    "        for row in reader:\n",
    "            identificadores.add(row[0])\n",
    "    return identificadores"
   ]
  },
  {
   "cell_type": "code",
   "execution_count": 3,
   "id": "15e2468c",
   "metadata": {},
   "outputs": [],
   "source": [
    "archivo_txt = '../anotaciones/Pfam_fotosistema_II_filtrado.txt'\n",
    "archivo_csv = '../DESeq/deSeq_salinidad.csv'"
   ]
  },
  {
   "cell_type": "code",
   "execution_count": 4,
   "id": "aaae3a60",
   "metadata": {},
   "outputs": [],
   "source": [
    "identificadores_txt = leer_identificadores(archivo_txt, '\\t')\n",
    "identificadores_csv = leer_identificadores(archivo_csv, ',')"
   ]
  },
  {
   "cell_type": "code",
   "execution_count": 6,
   "id": "a64a4de8",
   "metadata": {},
   "outputs": [],
   "source": [
    "genes_comunes = identificadores_txt.intersection(identificadores_csv)"
   ]
  },
  {
   "cell_type": "code",
   "execution_count": 8,
   "id": "017a4083",
   "metadata": {},
   "outputs": [],
   "source": [
    "archivo_salida = '../anotaciones/genes_comunes_pyhton.csv'\n",
    "with open(archivo_csv, 'r') as f_csv, open(archivo_salida, 'w', newline = '') as f_out:\n",
    "    reader = csv.reader(f_csv)\n",
    "    writer = csv.writer(f_out)\n",
    "    for row in reader:\n",
    "        if row[0] in genes_comunes:\n",
    "            writer.writerow(row)"
   ]
  },
  {
   "cell_type": "code",
   "execution_count": null,
   "id": "455e72a9",
   "metadata": {},
   "outputs": [],
   "source": []
  }
 ],
 "metadata": {
  "kernelspec": {
   "display_name": "Python 3 (ipykernel)",
   "language": "python",
   "name": "python3"
  },
  "language_info": {
   "codemirror_mode": {
    "name": "ipython",
    "version": 3
   },
   "file_extension": ".py",
   "mimetype": "text/x-python",
   "name": "python",
   "nbconvert_exporter": "python",
   "pygments_lexer": "ipython3",
   "version": "3.9.7"
  }
 },
 "nbformat": 4,
 "nbformat_minor": 5
}
